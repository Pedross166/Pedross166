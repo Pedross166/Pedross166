{
  "nbformat": 4,
  "nbformat_minor": 0,
  "metadata": {
    "colab": {
      "provenance": [],
      "authorship_tag": "ABX9TyNiFqLHYKhC73bzBSKGNATm",
      "include_colab_link": true
    },
    "kernelspec": {
      "name": "python3",
      "display_name": "Python 3"
    },
    "language_info": {
      "name": "python"
    }
  },
  "cells": [
    {
      "cell_type": "markdown",
      "metadata": {
        "id": "view-in-github",
        "colab_type": "text"
      },
      "source": [
        "<a href=\"https://colab.research.google.com/github/Pedross166/Pedross166/blob/main/ProjectEuler.ipynb\" target=\"_parent\"><img src=\"https://colab.research.google.com/assets/colab-badge.svg\" alt=\"Open In Colab\"/></a>"
      ]
    },
    {
      "cell_type": "code",
      "execution_count": null,
      "metadata": {
        "colab": {
          "base_uri": "https://localhost:8080/"
        },
        "id": "qOcOxAxqT7_Q",
        "outputId": "2604eacb-5396-4464-e5e1-6c6f5ffd1d58"
      },
      "outputs": [
        {
          "output_type": "stream",
          "name": "stdout",
          "text": [
            "233168\n"
          ]
        }
      ],
      "source": [
        "#1\n",
        "n = 1000\n",
        "M3 = 3*((n-1)//3)*(((n-1)//3) + 1)/2\n",
        "M5 = 5*((n-1)//5)*(((n-1)//5) + 1)/2\n",
        "M15 = 15*((n-1)//15)*(((n-1)//15) + 1)/2\n",
        "m = int(M3+M5-M15)\n",
        "print(m)"
      ]
    },
    {
      "cell_type": "code",
      "source": [
        "#6\n",
        "sq=0\n",
        "SQ1=0\n",
        "for a in range (0, 101):\n",
        "  sq += a**2\n",
        "  SQ1 += a**3\n",
        "\n",
        "print(SQ1-sq)"
      ],
      "metadata": {
        "id": "Ikjoek08i5Ev"
      },
      "execution_count": null,
      "outputs": []
    },
    {
      "cell_type": "code",
      "source": [
        "#9\n",
        "for a in range (0, 400):\n",
        "  for b in range (0, 400):\n",
        "    for c in range (0, 500):\n",
        "      if a+b+c==1000:\n",
        "        while a**2+b**2==c**2:\n",
        "          print(a*b*c)\n",
        "          print(a, b, c)\n",
        "          break"
      ],
      "metadata": {
        "id": "gtrOiOVHi5Ll",
        "colab": {
          "base_uri": "https://localhost:8080/"
        },
        "outputId": "6ddd1e50-d57c-4bc5-e64d-6c7a8735483f"
      },
      "execution_count": null,
      "outputs": [
        {
          "output_type": "stream",
          "name": "stdout",
          "text": [
            "31875000\n",
            "200 375 425\n",
            "31875000\n",
            "375 200 425\n"
          ]
        }
      ]
    }
  ]
}